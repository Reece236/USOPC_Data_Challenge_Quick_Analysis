{
 "cells": [
  {
   "cell_type": "code",
   "execution_count": 1,
   "outputs": [],
   "source": [
    "import pandas as pd"
   ],
   "metadata": {
    "collapsed": false,
    "pycharm": {
     "name": "#%%\n"
    }
   }
  },
  {
   "cell_type": "code",
   "execution_count": 2,
   "outputs": [],
   "source": [
    "df = pd.concat([pd.read_csv('data_2017_2021.csv'), pd.read_csv('data_2022_2023.csv')])\n",
    "df.reset_index(drop=True, inplace=True)"
   ],
   "metadata": {
    "collapsed": false,
    "pycharm": {
     "name": "#%%\n"
    }
   }
  },
  {
   "cell_type": "code",
   "execution_count": 3,
   "outputs": [],
   "source": [
    "df['id'] = df['LastName'] + df['FirstName'] + df['Gender'] + df['Country']\n",
    "df.sort_values('Date',inplace=True)"
   ],
   "metadata": {
    "collapsed": false,
    "pycharm": {
     "name": "#%%\n"
    }
   }
  },
  {
   "cell_type": "code",
   "execution_count": 4,
   "outputs": [],
   "source": [
    "def weighted_average(data):\n",
    "    if len(data) > 5:\n",
    "        data = data[-5:]\n",
    "    weights = [.5, .4, .2, .1, .1]\n",
    "    weights = weights[:len(data)]\n",
    "    return sum(data * weights)"
   ],
   "metadata": {
    "collapsed": false,
    "pycharm": {
     "name": "#%%\n"
    }
   }
  },
  {
   "cell_type": "code",
   "execution_count": 5,
   "outputs": [],
   "source": [
    "df['running_weighted_average'] = df.groupby(['id','Apparatus'])['Score'].apply(lambda x: x.expanding().apply(weighted_average, raw=True))\n",
    "\n",
    "recent_usa = df.loc[(df['Country'] == 'USA') & (df['Gender'] == 'w')].groupby(['id','Apparatus']).last().reset_index()"
   ],
   "metadata": {
    "collapsed": false,
    "pycharm": {
     "name": "#%%\n"
    }
   }
  },
  {
   "cell_type": "code",
   "execution_count": 6,
   "outputs": [
    {
     "data": {
      "text/plain": "         LastName FirstName Gender Country                      Date  \\\n2366      Blakely      Skye      w     USA            26-27 Aug 2023   \n9480     Moldauer       Yul      m     USA            26-27 Aug 2023   \n2598        CAREY      Jade      w     USA  29 Oct 2022 - 6 Nov 2022   \n8311       MALONE     Brody      m     USA  29 Oct 2022 - 6 Nov 2022   \n10784    Phillips    Curran      m     USA            26-27 Aug 2023   \n9851   Nedoroscik   Stephen      m     USA            26-27 Aug 2023   \n5763         Hong     Asher      m     USA            26-27 Aug 2023   \n9338     Matthews      Nola      w     USA            26-27 Aug 2023   \n325           LEE    Sunisa      w     USA           THU 29 JUL 2021   \n5765         Hong     Asher      m     USA            26-27 Aug 2023   \n2372      Blakely      Skye      w     USA            26-27 Aug 2023   \n5570         HONG     Asher      m     USA  29 Oct 2022 - 6 Nov 2022   \n11131    ROBERSON  Joscelyn      w     USA            27-30 Apr 2023   \n5571         HONG     Asher      m     USA  29 Oct 2022 - 6 Nov 2022   \n2606        CAREY      Jade      w     USA  29 Oct 2022 - 6 Nov 2022   \n\n                                             Competition    Round  \\\n2366                             2023 U.S. Championships    final   \n9480                             2023 U.S. Championships    final   \n2598   2022 51st FIG Artistic Gymnastics World Champi...  AAfinal   \n8311   2022 51st FIG Artistic Gymnastics World Champi...  AAfinal   \n10784                            2023 U.S. Championships     qual   \n9851                             2023 U.S. Championships    final   \n5763                             2023 U.S. Championships     qual   \n9338                             2023 U.S. Championships    final   \n325                                        Olympic Games    final   \n5765                             2023 U.S. Championships     qual   \n2372                             2023 U.S. Championships    final   \n5570   2022 51st FIG Artistic Gymnastics World Champi...     qual   \n11131                       FIG Apparatus World Cup 2023     qual   \n5571   2022 51st FIG Artistic Gymnastics World Champi...     qual   \n2606   2022 51st FIG Artistic Gymnastics World Champi...     qual   \n\n                 Location Apparatus  Rank  D_Score  E_Score  Penalty   Score  \\\n2366         San Jose, CA        BB   NaN      6.1    8.100      NaN  14.200   \n9480         San Jose, CA        FX   NaN      5.5    7.150      NaN  12.650   \n2598   Liverpool, England        FX   3.0      6.1    8.066      NaN  14.166   \n8311   Liverpool, England        HB   1.0      6.3    8.200      NaN  14.500   \n10784        San Jose, CA        PB   NaN      6.8    8.750      NaN  15.550   \n9851         San Jose, CA        PH   NaN      6.8    8.250      NaN  15.050   \n5763         San Jose, CA        SR   NaN      6.1    8.550      NaN  14.650   \n9338         San Jose, CA        UB   NaN      5.6    8.450      NaN  14.050   \n325          Tokyo, Japan        UE   1.0      6.8    8.500      NaN  15.300   \n5765         San Jose, CA        VT   NaN      6.0    8.850      0.1  14.750   \n2372         San Jose, CA        VT   NaN      5.0    9.250      NaN  14.250   \n5570   Liverpool, England       VT1  22.0      6.0    8.533      0.1  14.433   \n11131        Cairo, Egypt       VT1   2.0      5.2    8.866      NaN  14.066   \n5571   Liverpool, England       VT2  15.0      6.0    7.666      0.1  13.566   \n2606   Liverpool, England       VT2   1.0      5.0    9.366      NaN  14.366   \n\n                          id  running_weighted_average  \n2366         BlakelySkyewUSA                   17.3600  \n9480         MoldauerYulmUSA                   18.3350  \n2598           CAREYJadewUSA                   18.3898  \n8311         MALONEBrodymUSA                   18.0580  \n10784     PhillipsCurranmUSA                   19.9400  \n9851   NedoroscikStephenmUSA                   18.9000  \n5763           HongAshermUSA                   18.6400  \n9338        MatthewsNolawUSA                   17.9850  \n325            LEESunisawUSA                   17.9000  \n5765           HongAshermUSA                   19.2400  \n2372         BlakelySkyewUSA                   18.4100  \n5570           HONGAshermUSA                   15.7996  \n11131   ROBERSONJoscelynwUSA                   17.0097  \n5571           HONGAshermUSA                   15.4997  \n2606           CAREYJadewUSA                   16.8130  ",
      "text/html": "<div>\n<style scoped>\n    .dataframe tbody tr th:only-of-type {\n        vertical-align: middle;\n    }\n\n    .dataframe tbody tr th {\n        vertical-align: top;\n    }\n\n    .dataframe thead th {\n        text-align: right;\n    }\n</style>\n<table border=\"1\" class=\"dataframe\">\n  <thead>\n    <tr style=\"text-align: right;\">\n      <th></th>\n      <th>LastName</th>\n      <th>FirstName</th>\n      <th>Gender</th>\n      <th>Country</th>\n      <th>Date</th>\n      <th>Competition</th>\n      <th>Round</th>\n      <th>Location</th>\n      <th>Apparatus</th>\n      <th>Rank</th>\n      <th>D_Score</th>\n      <th>E_Score</th>\n      <th>Penalty</th>\n      <th>Score</th>\n      <th>id</th>\n      <th>running_weighted_average</th>\n    </tr>\n  </thead>\n  <tbody>\n    <tr>\n      <th>2366</th>\n      <td>Blakely</td>\n      <td>Skye</td>\n      <td>w</td>\n      <td>USA</td>\n      <td>26-27 Aug 2023</td>\n      <td>2023 U.S. Championships</td>\n      <td>final</td>\n      <td>San Jose, CA</td>\n      <td>BB</td>\n      <td>NaN</td>\n      <td>6.1</td>\n      <td>8.100</td>\n      <td>NaN</td>\n      <td>14.200</td>\n      <td>BlakelySkyewUSA</td>\n      <td>17.3600</td>\n    </tr>\n    <tr>\n      <th>9480</th>\n      <td>Moldauer</td>\n      <td>Yul</td>\n      <td>m</td>\n      <td>USA</td>\n      <td>26-27 Aug 2023</td>\n      <td>2023 U.S. Championships</td>\n      <td>final</td>\n      <td>San Jose, CA</td>\n      <td>FX</td>\n      <td>NaN</td>\n      <td>5.5</td>\n      <td>7.150</td>\n      <td>NaN</td>\n      <td>12.650</td>\n      <td>MoldauerYulmUSA</td>\n      <td>18.3350</td>\n    </tr>\n    <tr>\n      <th>2598</th>\n      <td>CAREY</td>\n      <td>Jade</td>\n      <td>w</td>\n      <td>USA</td>\n      <td>29 Oct 2022 - 6 Nov 2022</td>\n      <td>2022 51st FIG Artistic Gymnastics World Champi...</td>\n      <td>AAfinal</td>\n      <td>Liverpool, England</td>\n      <td>FX</td>\n      <td>3.0</td>\n      <td>6.1</td>\n      <td>8.066</td>\n      <td>NaN</td>\n      <td>14.166</td>\n      <td>CAREYJadewUSA</td>\n      <td>18.3898</td>\n    </tr>\n    <tr>\n      <th>8311</th>\n      <td>MALONE</td>\n      <td>Brody</td>\n      <td>m</td>\n      <td>USA</td>\n      <td>29 Oct 2022 - 6 Nov 2022</td>\n      <td>2022 51st FIG Artistic Gymnastics World Champi...</td>\n      <td>AAfinal</td>\n      <td>Liverpool, England</td>\n      <td>HB</td>\n      <td>1.0</td>\n      <td>6.3</td>\n      <td>8.200</td>\n      <td>NaN</td>\n      <td>14.500</td>\n      <td>MALONEBrodymUSA</td>\n      <td>18.0580</td>\n    </tr>\n    <tr>\n      <th>10784</th>\n      <td>Phillips</td>\n      <td>Curran</td>\n      <td>m</td>\n      <td>USA</td>\n      <td>26-27 Aug 2023</td>\n      <td>2023 U.S. Championships</td>\n      <td>qual</td>\n      <td>San Jose, CA</td>\n      <td>PB</td>\n      <td>NaN</td>\n      <td>6.8</td>\n      <td>8.750</td>\n      <td>NaN</td>\n      <td>15.550</td>\n      <td>PhillipsCurranmUSA</td>\n      <td>19.9400</td>\n    </tr>\n    <tr>\n      <th>9851</th>\n      <td>Nedoroscik</td>\n      <td>Stephen</td>\n      <td>m</td>\n      <td>USA</td>\n      <td>26-27 Aug 2023</td>\n      <td>2023 U.S. Championships</td>\n      <td>final</td>\n      <td>San Jose, CA</td>\n      <td>PH</td>\n      <td>NaN</td>\n      <td>6.8</td>\n      <td>8.250</td>\n      <td>NaN</td>\n      <td>15.050</td>\n      <td>NedoroscikStephenmUSA</td>\n      <td>18.9000</td>\n    </tr>\n    <tr>\n      <th>5763</th>\n      <td>Hong</td>\n      <td>Asher</td>\n      <td>m</td>\n      <td>USA</td>\n      <td>26-27 Aug 2023</td>\n      <td>2023 U.S. Championships</td>\n      <td>qual</td>\n      <td>San Jose, CA</td>\n      <td>SR</td>\n      <td>NaN</td>\n      <td>6.1</td>\n      <td>8.550</td>\n      <td>NaN</td>\n      <td>14.650</td>\n      <td>HongAshermUSA</td>\n      <td>18.6400</td>\n    </tr>\n    <tr>\n      <th>9338</th>\n      <td>Matthews</td>\n      <td>Nola</td>\n      <td>w</td>\n      <td>USA</td>\n      <td>26-27 Aug 2023</td>\n      <td>2023 U.S. Championships</td>\n      <td>final</td>\n      <td>San Jose, CA</td>\n      <td>UB</td>\n      <td>NaN</td>\n      <td>5.6</td>\n      <td>8.450</td>\n      <td>NaN</td>\n      <td>14.050</td>\n      <td>MatthewsNolawUSA</td>\n      <td>17.9850</td>\n    </tr>\n    <tr>\n      <th>325</th>\n      <td>LEE</td>\n      <td>Sunisa</td>\n      <td>w</td>\n      <td>USA</td>\n      <td>THU 29 JUL 2021</td>\n      <td>Olympic Games</td>\n      <td>final</td>\n      <td>Tokyo, Japan</td>\n      <td>UE</td>\n      <td>1.0</td>\n      <td>6.8</td>\n      <td>8.500</td>\n      <td>NaN</td>\n      <td>15.300</td>\n      <td>LEESunisawUSA</td>\n      <td>17.9000</td>\n    </tr>\n    <tr>\n      <th>5765</th>\n      <td>Hong</td>\n      <td>Asher</td>\n      <td>m</td>\n      <td>USA</td>\n      <td>26-27 Aug 2023</td>\n      <td>2023 U.S. Championships</td>\n      <td>qual</td>\n      <td>San Jose, CA</td>\n      <td>VT</td>\n      <td>NaN</td>\n      <td>6.0</td>\n      <td>8.850</td>\n      <td>0.1</td>\n      <td>14.750</td>\n      <td>HongAshermUSA</td>\n      <td>19.2400</td>\n    </tr>\n    <tr>\n      <th>2372</th>\n      <td>Blakely</td>\n      <td>Skye</td>\n      <td>w</td>\n      <td>USA</td>\n      <td>26-27 Aug 2023</td>\n      <td>2023 U.S. Championships</td>\n      <td>final</td>\n      <td>San Jose, CA</td>\n      <td>VT</td>\n      <td>NaN</td>\n      <td>5.0</td>\n      <td>9.250</td>\n      <td>NaN</td>\n      <td>14.250</td>\n      <td>BlakelySkyewUSA</td>\n      <td>18.4100</td>\n    </tr>\n    <tr>\n      <th>5570</th>\n      <td>HONG</td>\n      <td>Asher</td>\n      <td>m</td>\n      <td>USA</td>\n      <td>29 Oct 2022 - 6 Nov 2022</td>\n      <td>2022 51st FIG Artistic Gymnastics World Champi...</td>\n      <td>qual</td>\n      <td>Liverpool, England</td>\n      <td>VT1</td>\n      <td>22.0</td>\n      <td>6.0</td>\n      <td>8.533</td>\n      <td>0.1</td>\n      <td>14.433</td>\n      <td>HONGAshermUSA</td>\n      <td>15.7996</td>\n    </tr>\n    <tr>\n      <th>11131</th>\n      <td>ROBERSON</td>\n      <td>Joscelyn</td>\n      <td>w</td>\n      <td>USA</td>\n      <td>27-30 Apr 2023</td>\n      <td>FIG Apparatus World Cup 2023</td>\n      <td>qual</td>\n      <td>Cairo, Egypt</td>\n      <td>VT1</td>\n      <td>2.0</td>\n      <td>5.2</td>\n      <td>8.866</td>\n      <td>NaN</td>\n      <td>14.066</td>\n      <td>ROBERSONJoscelynwUSA</td>\n      <td>17.0097</td>\n    </tr>\n    <tr>\n      <th>5571</th>\n      <td>HONG</td>\n      <td>Asher</td>\n      <td>m</td>\n      <td>USA</td>\n      <td>29 Oct 2022 - 6 Nov 2022</td>\n      <td>2022 51st FIG Artistic Gymnastics World Champi...</td>\n      <td>qual</td>\n      <td>Liverpool, England</td>\n      <td>VT2</td>\n      <td>15.0</td>\n      <td>6.0</td>\n      <td>7.666</td>\n      <td>0.1</td>\n      <td>13.566</td>\n      <td>HONGAshermUSA</td>\n      <td>15.4997</td>\n    </tr>\n    <tr>\n      <th>2606</th>\n      <td>CAREY</td>\n      <td>Jade</td>\n      <td>w</td>\n      <td>USA</td>\n      <td>29 Oct 2022 - 6 Nov 2022</td>\n      <td>2022 51st FIG Artistic Gymnastics World Champi...</td>\n      <td>qual</td>\n      <td>Liverpool, England</td>\n      <td>VT2</td>\n      <td>1.0</td>\n      <td>5.0</td>\n      <td>9.366</td>\n      <td>NaN</td>\n      <td>14.366</td>\n      <td>CAREYJadewUSA</td>\n      <td>16.8130</td>\n    </tr>\n  </tbody>\n</table>\n</div>"
     },
     "execution_count": 6,
     "metadata": {},
     "output_type": "execute_result"
    }
   ],
   "source": [
    "idx = df.loc[(df['Country'] == 'USA')].groupby(['Apparatus','Gender'])['running_weighted_average'].idxmax()\n",
    "highest_scores = df.loc[idx]\n",
    "highest_scores\n"
   ],
   "metadata": {
    "collapsed": false,
    "pycharm": {
     "name": "#%%\n"
    }
   }
  }
 ],
 "metadata": {
  "kernelspec": {
   "display_name": "Python 3",
   "language": "python",
   "name": "python3"
  },
  "language_info": {
   "codemirror_mode": {
    "name": "ipython",
    "version": 2
   },
   "file_extension": ".py",
   "mimetype": "text/x-python",
   "name": "python",
   "nbconvert_exporter": "python",
   "pygments_lexer": "ipython2",
   "version": "2.7.6"
  }
 },
 "nbformat": 4,
 "nbformat_minor": 0
}